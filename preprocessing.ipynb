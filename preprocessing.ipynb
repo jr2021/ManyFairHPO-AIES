{
 "cells": [
  {
   "cell_type": "code",
   "execution_count": 1,
   "metadata": {},
   "outputs": [],
   "source": [
    "from utils import get_dataset, get_encoder, get_protected_attribute\n",
    "import pandas as pd\n",
    "from IPython import display\n",
    "display.clear_output()\n",
    "import numpy as np"
   ]
  },
  {
   "cell_type": "code",
   "execution_count": 2,
   "metadata": {},
   "outputs": [],
   "source": [
    "datasets = ['lawschool', 'german', 'compas', 'bank', 'adult']\n",
    "\n",
    "dataset_summary, dataset_dfs = {dataset: {} for dataset in datasets}, {dataset: {} for dataset in datasets} \n",
    "for dataset in datasets:\n",
    "    X, y = get_dataset(dataset_key=dataset)\n",
    "\n",
    "    df = X\n",
    "    df['y'] = y.values\n",
    "    dataset_dfs[dataset] = df\n",
    "\n",
    "    encoder = get_encoder(X)\n",
    "    X = pd.DataFrame(\n",
    "        encoder.fit_transform(X), index=X.index\n",
    "    )\n",
    "\n",
    "    prot_attr = get_protected_attribute(dataset)\n",
    "    prot = y.index.to_frame()[prot_attr].values\n",
    "\n",
    "    dataset_summary[dataset]['num. samples'] = int(len(y))\n",
    "    dataset_summary[dataset]['num. features'] = int(len(X.iloc[0]))\n",
    "    dataset_summary[dataset]['pct. pos.'] = np.sum(y.astype(int)) / len(y)\n",
    "    dataset_summary[dataset]['pct. neg.'] = 1 - (np.sum(y.astype(int)) / len(y))\n",
    "    dataset_summary[dataset]['prot. attr.'] = prot_attr\n",
    "    dataset_summary[dataset]['pct. priv.'] = np.sum(prot.astype(int)) / len(prot)\n",
    "    dataset_summary[dataset]['pct. unpriv.'] = 1 - (np.sum(prot.astype(int)) / len(prot))"
   ]
  },
  {
   "cell_type": "code",
   "execution_count": 3,
   "metadata": {},
   "outputs": [
    {
     "data": {
      "text/html": [
       "<div>\n",
       "<style scoped>\n",
       "    .dataframe tbody tr th:only-of-type {\n",
       "        vertical-align: middle;\n",
       "    }\n",
       "\n",
       "    .dataframe tbody tr th {\n",
       "        vertical-align: top;\n",
       "    }\n",
       "\n",
       "    .dataframe thead th {\n",
       "        text-align: right;\n",
       "    }\n",
       "</style>\n",
       "<table border=\"1\" class=\"dataframe\">\n",
       "  <thead>\n",
       "    <tr style=\"text-align: right;\">\n",
       "      <th></th>\n",
       "      <th>num. samples</th>\n",
       "      <th>num. features</th>\n",
       "      <th>pct. pos.</th>\n",
       "      <th>pct. neg.</th>\n",
       "      <th>prot. attr.</th>\n",
       "      <th>pct. priv.</th>\n",
       "      <th>pct. unpriv.</th>\n",
       "    </tr>\n",
       "  </thead>\n",
       "  <tbody>\n",
       "    <tr>\n",
       "      <th>lawschool</th>\n",
       "      <td>22342</td>\n",
       "      <td>3</td>\n",
       "      <td>0.249888</td>\n",
       "      <td>0.750112</td>\n",
       "      <td>race</td>\n",
       "      <td>0.923865</td>\n",
       "      <td>0.076135</td>\n",
       "    </tr>\n",
       "    <tr>\n",
       "      <th>german</th>\n",
       "      <td>1000</td>\n",
       "      <td>52</td>\n",
       "      <td>0.7</td>\n",
       "      <td>0.3</td>\n",
       "      <td>sex</td>\n",
       "      <td>0.69</td>\n",
       "      <td>0.31</td>\n",
       "    </tr>\n",
       "    <tr>\n",
       "      <th>compas</th>\n",
       "      <td>5278</td>\n",
       "      <td>7</td>\n",
       "      <td>0.529557</td>\n",
       "      <td>0.470443</td>\n",
       "      <td>race</td>\n",
       "      <td>0.398446</td>\n",
       "      <td>0.601554</td>\n",
       "    </tr>\n",
       "    <tr>\n",
       "      <th>bank</th>\n",
       "      <td>7842</td>\n",
       "      <td>30</td>\n",
       "      <td>0.227748</td>\n",
       "      <td>0.772252</td>\n",
       "      <td>age</td>\n",
       "      <td>0.648176</td>\n",
       "      <td>0.351824</td>\n",
       "    </tr>\n",
       "    <tr>\n",
       "      <th>adult</th>\n",
       "      <td>46033</td>\n",
       "      <td>34</td>\n",
       "      <td>0.248126</td>\n",
       "      <td>0.751874</td>\n",
       "      <td>race</td>\n",
       "      <td>0.856864</td>\n",
       "      <td>0.143136</td>\n",
       "    </tr>\n",
       "  </tbody>\n",
       "</table>\n",
       "</div>"
      ],
      "text/plain": [
       "          num. samples num. features pct. pos. pct. neg. prot. attr.  \\\n",
       "lawschool        22342             3  0.249888  0.750112        race   \n",
       "german            1000            52       0.7       0.3         sex   \n",
       "compas            5278             7  0.529557  0.470443        race   \n",
       "bank              7842            30  0.227748  0.772252         age   \n",
       "adult            46033            34  0.248126  0.751874        race   \n",
       "\n",
       "          pct. priv. pct. unpriv.  \n",
       "lawschool   0.923865     0.076135  \n",
       "german          0.69         0.31  \n",
       "compas      0.398446     0.601554  \n",
       "bank        0.648176     0.351824  \n",
       "adult       0.856864     0.143136  "
      ]
     },
     "execution_count": 3,
     "metadata": {},
     "output_type": "execute_result"
    }
   ],
   "source": [
    "pd.DataFrame(dataset_summary).transpose()"
   ]
  },
  {
   "cell_type": "code",
   "execution_count": 4,
   "metadata": {},
   "outputs": [],
   "source": [
    "dataset = 'lawschool'"
   ]
  },
  {
   "cell_type": "code",
   "execution_count": 5,
   "metadata": {},
   "outputs": [
    {
     "data": {
      "text/html": [
       "<div>\n",
       "<style scoped>\n",
       "    .dataframe tbody tr th:only-of-type {\n",
       "        vertical-align: middle;\n",
       "    }\n",
       "\n",
       "    .dataframe tbody tr th {\n",
       "        vertical-align: top;\n",
       "    }\n",
       "\n",
       "    .dataframe thead th {\n",
       "        text-align: right;\n",
       "    }\n",
       "</style>\n",
       "<table border=\"1\" class=\"dataframe\">\n",
       "  <thead>\n",
       "    <tr style=\"text-align: right;\">\n",
       "      <th></th>\n",
       "      <th>lsat</th>\n",
       "      <th>ugpa</th>\n",
       "      <th>y</th>\n",
       "    </tr>\n",
       "    <tr>\n",
       "      <th>race</th>\n",
       "      <th></th>\n",
       "      <th></th>\n",
       "      <th></th>\n",
       "    </tr>\n",
       "  </thead>\n",
       "  <tbody>\n",
       "    <tr>\n",
       "      <th>1</th>\n",
       "      <td>40.0</td>\n",
       "      <td>3.3</td>\n",
       "      <td>False</td>\n",
       "    </tr>\n",
       "    <tr>\n",
       "      <th>1</th>\n",
       "      <td>33.0</td>\n",
       "      <td>2.9</td>\n",
       "      <td>False</td>\n",
       "    </tr>\n",
       "    <tr>\n",
       "      <th>1</th>\n",
       "      <td>35.0</td>\n",
       "      <td>2.5</td>\n",
       "      <td>False</td>\n",
       "    </tr>\n",
       "    <tr>\n",
       "      <th>1</th>\n",
       "      <td>35.0</td>\n",
       "      <td>3.4</td>\n",
       "      <td>True</td>\n",
       "    </tr>\n",
       "    <tr>\n",
       "      <th>1</th>\n",
       "      <td>32.0</td>\n",
       "      <td>3.1</td>\n",
       "      <td>False</td>\n",
       "    </tr>\n",
       "    <tr>\n",
       "      <th>...</th>\n",
       "      <td>...</td>\n",
       "      <td>...</td>\n",
       "      <td>...</td>\n",
       "    </tr>\n",
       "    <tr>\n",
       "      <th>0</th>\n",
       "      <td>27.0</td>\n",
       "      <td>3.9</td>\n",
       "      <td>False</td>\n",
       "    </tr>\n",
       "    <tr>\n",
       "      <th>1</th>\n",
       "      <td>42.0</td>\n",
       "      <td>3.7</td>\n",
       "      <td>False</td>\n",
       "    </tr>\n",
       "    <tr>\n",
       "      <th>1</th>\n",
       "      <td>39.0</td>\n",
       "      <td>3.1</td>\n",
       "      <td>False</td>\n",
       "    </tr>\n",
       "    <tr>\n",
       "      <th>1</th>\n",
       "      <td>39.0</td>\n",
       "      <td>3.4</td>\n",
       "      <td>True</td>\n",
       "    </tr>\n",
       "    <tr>\n",
       "      <th>1</th>\n",
       "      <td>36.0</td>\n",
       "      <td>2.9</td>\n",
       "      <td>False</td>\n",
       "    </tr>\n",
       "  </tbody>\n",
       "</table>\n",
       "<p>22342 rows × 3 columns</p>\n",
       "</div>"
      ],
      "text/plain": [
       "      lsat  ugpa      y\n",
       "race                   \n",
       "1     40.0   3.3  False\n",
       "1     33.0   2.9  False\n",
       "1     35.0   2.5  False\n",
       "1     35.0   3.4   True\n",
       "1     32.0   3.1  False\n",
       "...    ...   ...    ...\n",
       "0     27.0   3.9  False\n",
       "1     42.0   3.7  False\n",
       "1     39.0   3.1  False\n",
       "1     39.0   3.4   True\n",
       "1     36.0   2.9  False\n",
       "\n",
       "[22342 rows x 3 columns]"
      ]
     },
     "execution_count": 5,
     "metadata": {},
     "output_type": "execute_result"
    }
   ],
   "source": [
    "dataset_dfs[dataset]"
   ]
  },
  {
   "cell_type": "code",
   "execution_count": 6,
   "metadata": {},
   "outputs": [
    {
     "data": {
      "text/plain": [
       "lsat    float64\n",
       "ugpa    float64\n",
       "y          bool\n",
       "dtype: object"
      ]
     },
     "execution_count": 6,
     "metadata": {},
     "output_type": "execute_result"
    }
   ],
   "source": [
    "dataset_dfs[dataset].dtypes"
   ]
  },
  {
   "cell_type": "code",
   "execution_count": 10,
   "metadata": {},
   "outputs": [
    {
     "data": {
      "text/plain": [
       "sex                 2\n",
       "age                62\n",
       "juv_fel_count       9\n",
       "juv_misd_count     10\n",
       "juv_other_count     8\n",
       "priors_count       36\n",
       "c_charge_degree     2\n",
       "y                   2\n",
       "dtype: int64"
      ]
     },
     "execution_count": 10,
     "metadata": {},
     "output_type": "execute_result"
    }
   ],
   "source": [
    "dataset_dfs[dataset].nunique()"
   ]
  },
  {
   "cell_type": "code",
   "execution_count": 11,
   "metadata": {},
   "outputs": [
    {
     "data": {
      "text/plain": [
       "['<100', '100<=X<500', '>=1000', '500<=X<1000', 'no known savings']\n",
       "Categories (5, object): ['<100', '100<=X<500', '>=1000', '500<=X<1000', 'no known savings']"
      ]
     },
     "execution_count": 11,
     "metadata": {},
     "output_type": "execute_result"
    }
   ],
   "source": [
    "dataset_dfs[dataset]['savings_status'].unique()"
   ]
  },
  {
   "cell_type": "code",
   "execution_count": 7,
   "metadata": {},
   "outputs": [
    {
     "data": {
      "text/plain": [
       "race\n",
       "1       False\n",
       "1       False\n",
       "1       False\n",
       "1        True\n",
       "1       False\n",
       "        ...  \n",
       "0       False\n",
       "1       False\n",
       "1       False\n",
       "1        True\n",
       "1       False\n",
       "Name: zfygpa, Length: 22342, dtype: bool"
      ]
     },
     "execution_count": 7,
     "metadata": {},
     "output_type": "execute_result"
    }
   ],
   "source": [
    "y"
   ]
  },
  {
   "cell_type": "code",
   "execution_count": 12,
   "metadata": {},
   "outputs": [
    {
     "data": {
      "text/plain": [
       "['unemployed', '1<=X<4', '<1', '>=7', '4<=X<7']\n",
       "Categories (5, object): ['unemployed', '1<=X<4', '<1', '>=7', '4<=X<7']"
      ]
     },
     "execution_count": 12,
     "metadata": {},
     "output_type": "execute_result"
    }
   ],
   "source": [
    "dataset_dfs[dataset]['employment'].unique()"
   ]
  },
  {
   "cell_type": "code",
   "execution_count": null,
   "metadata": {},
   "outputs": [],
   "source": []
  }
 ],
 "metadata": {
  "kernelspec": {
   "display_name": "hpobench_fairmohpo",
   "language": "python",
   "name": "python3"
  },
  "language_info": {
   "codemirror_mode": {
    "name": "ipython",
    "version": 3
   },
   "file_extension": ".py",
   "mimetype": "text/x-python",
   "name": "python",
   "nbconvert_exporter": "python",
   "pygments_lexer": "ipython3",
   "version": "3.9.15"
  },
  "orig_nbformat": 4,
  "vscode": {
   "interpreter": {
    "hash": "659a18a49972e3452eba429f9038098967e7fa1f9966e8dcb929fd0d71b4badb"
   }
  }
 },
 "nbformat": 4,
 "nbformat_minor": 2
}
